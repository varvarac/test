{
 "cells": [
  {
   "cell_type": "markdown",
   "metadata": {
    "deletable": false,
    "editable": false,
    "run_control": {
     "frozen": true
    }
   },
   "source": [
    "<nav class=\"navbar navbar-default\">\n",
    "  <div class=\"container-fluid\">\n",
    "    <div class=\"navbar-header\">\n",
    "      <a class=\"navbar-brand\" href=\"_Oving6.ipynb\">Øving 6</a>\n",
    "    </div>\n",
    "    <ul class=\"nav navbar-nav\">\n",
    "    <li ><a href=\"Aksessering.ipynb\">Aksessering av karakter</a></li>\n",
    "    <li ><a href=\"Strenger%20og%20konkatinering.ipynb\">Konkatinering</a></li>\n",
    "    <li class=\"active\"><a href=\"Slicing.ipynb\">Slicing</a></li>\n",
    "    <li ><a href=\"Tekstbehandling.ipynb\">Tekstbehandling</a></li>\n",
    "    <li ><a href=\"Strenghandtering.ipynb\">Strenghåndtering</a></li>\n",
    "    <li ><a href=\"Innebygde%20funksjoner.ipynb\">Innebygde funksjoner og lister</a></li>\n",
    "    <li><a href=\"Fjesboka.ipynb\">Fjesboka</a></li>\n",
    "    <li ><a href=\"Akkorder%20og%20toner.ipynb\">Akkorder og toner</a></li>\n",
    "    <li ><a href=\"Ideel%20gasslov.ipynb\">Ideel Gasslov</a></li>\n",
    "    <li><a href=\"Sammenhengende%20tallrekke.ipynb\">Sammenhengende Tallrekke</a></li>\n",
    "    <li ><a href=\"Sortering.ipynb\">Sortering</a></li>\n",
    "    <li ><a href=\"Strengmanipulasjon.ipynb\">Strengmanipulasjon</a></li>\n",
    "    <li ><a href=\"Kryptering.ipynb\">Kryptering</a></li>\n",
    "    <li ><a href=\"Litt%20sjakk.ipynb\">Litt Sjakk</a></li>\n",
    "    </ul>\n",
    "  </div>\n",
    "</nav>\n",
    "\n",
    "# Slicing av strenger\n",
    "\n",
    "**Læringsmål:**\n",
    "\n",
    "* Strenger\n",
    "* Funksjoner\n",
    "* Lister\n",
    "\n",
    "**Starting Out with Python:**\n",
    "\n",
    "* Kap. 8.2"
   ]
  },
  {
   "cell_type": "markdown",
   "metadata": {
    "deletable": false,
    "editable": false,
    "run_control": {
     "frozen": true
    }
   },
   "source": [
    "### Kort om slicing"
   ]
  },
  {
   "cell_type": "markdown",
   "metadata": {
    "deletable": false,
    "editable": false,
    "run_control": {
     "frozen": true
    }
   },
   "source": [
    "Slicing kan brukes til å velge ut en del av en streng. Formatet for dette er:  \n",
    "**string[start : slutt : steg]**\n",
    "\n",
    "* Den nye strengen vil starte på karakteren start-indeksen tilsvarer. Om start ikke er spesifisert, antas indeks 0.\n",
    "* Slutt-indeksen spesifiserer hvilke karakter den nye strengen skal stoppe på. Akkrat som med range()-funksjonen, så er karakteren på slutt-indeksen ikke inkludert. Om slutt ikke er spesifisert, antas indeks len(string).\n",
    "* Steg spesifiserer hvor mange indekser man øker med for hver karakter. Om steg ikke er spesifisert antas steg = 1, som betyr at hver indeks skal velges. Hvis steg = 2 skal annenhver indeks velges.  \n",
    "\n",
    "**Eksempel:**"
   ]
  },
  {
   "cell_type": "code",
   "execution_count": 1,
   "metadata": {},
   "outputs": [
    {
     "name": "stdout",
     "output_type": "stream",
     "text": [
      "One\n",
      "rule\n",
      "rule them all\n",
      "noe\n"
     ]
    }
   ],
   "source": [
    "streng = \"One ring to rule them all\"\n",
    "print(streng[:3])       #Samme som streng[0:3]\n",
    "print(streng[12:16])    \n",
    "print(streng[12:])      #Samme som streng[12:len(streng)] og streng[12:25]\n",
    "print(streng[1::9])     \n",
    "print(\"Goodbye world\")"
   ]
  },
  {
   "cell_type": "markdown",
   "metadata": {
    "deletable": false,
    "editable": false,
    "run_control": {
     "frozen": true
    }
   },
   "source": [
    "### a)"
   ]
  },
  {
   "cell_type": "markdown",
   "metadata": {
    "ExecuteTime": {
     "end_time": "2019-07-03T12:34:41.521574Z",
     "start_time": "2019-07-03T12:34:41.512410Z"
    },
    "deletable": false,
    "editable": false,
    "run_control": {
     "frozen": true
    }
   },
   "source": [
    "Skriv en funksjon som tar inn en streng som argument, og returnerer en ny streng bestående av hver fjerde karakter i argumentet.\n",
    "\n",
    "**Eksempel:**\n",
    "\n",
    "```python\n",
    "#streng = \"I Was Told There’d Be Cake\"\n",
    "-> Islh’ek\n",
    "```\n",
    "\n",
    "***Skriv koden din i kodeblokken under***"
   ]
  },
  {
   "cell_type": "code",
   "execution_count": 14,
   "metadata": {},
   "outputs": [
    {
     "name": "stdout",
     "output_type": "stream",
     "text": [
      "Islh'ek\n"
     ]
    }
   ],
   "source": [
    "def funksjon(streng):\n",
    "    return streng[::4]\n",
    "    \n",
    "print(funksjon(\"I was Told There'd Be Cake\"))"
   ]
  },
  {
   "cell_type": "markdown",
   "metadata": {
    "deletable": false,
    "editable": false,
    "run_control": {
     "frozen": true
    }
   },
   "source": [
    "### b)"
   ]
  },
  {
   "cell_type": "markdown",
   "metadata": {
    "deletable": false,
    "editable": false,
    "run_control": {
     "frozen": true
    }
   },
   "source": [
    "Skriv en funksjon som tar inn en liste med strenger, itererer gjennom denne, og returnerer en ny streng bestående av de to siste karakterene i strengene i listen.\n",
    "\n",
    "**Eksempel:**\n",
    "```python\n",
    "#liste = [\"banan\",\"propan\",\"Westerosi\"]\n",
    "-> anansi\n",
    "```\n",
    "\n",
    "***Skriv koden din i kodeblokken under***"
   ]
  },
  {
   "cell_type": "code",
   "execution_count": 29,
   "metadata": {},
   "outputs": [
    {
     "name": "stdout",
     "output_type": "stream",
     "text": [
      "anansi\n"
     ]
    }
   ],
   "source": [
    "def ny_funksjon(*args):\n",
    "    liste=\"\"\n",
    "    for arg in args:\n",
    "        if len(arg)>=2:\n",
    "            delt_arg=arg[-2:]\n",
    "            liste+=delt_arg\n",
    "    return liste\n",
    "    \n",
    "\n",
    "print(ny_funksjon(\"banan\",\"propan\", \"Westerosi\"))\n",
    "    \n",
    "    "
   ]
  },
  {
   "cell_type": "markdown",
   "metadata": {
    "deletable": false,
    "editable": false,
    "run_control": {
     "frozen": true
    }
   },
   "source": [
    "### c)"
   ]
  },
  {
   "cell_type": "markdown",
   "metadata": {
    "deletable": false,
    "editable": false,
    "run_control": {
     "frozen": true
    }
   },
   "source": [
    "Under følger tre kodesnutter, der to inneholder en feil hver, og den siste er rett. Hvilken kode er korrekt? Finn feilen i de to andre."
   ]
  },
  {
   "cell_type": "code",
   "execution_count": 31,
   "metadata": {},
   "outputs": [
    {
     "ename": "SyntaxError",
     "evalue": "invalid syntax (1067908879.py, line 14)",
     "output_type": "error",
     "traceback": [
      "\u001b[0;36m  Cell \u001b[0;32mIn[31], line 14\u001b[0;36m\u001b[0m\n\u001b[0;31m    streng = streng[]\u001b[0m\n\u001b[0m                    ^\u001b[0m\n\u001b[0;31mSyntaxError\u001b[0m\u001b[0;31m:\u001b[0m invalid syntax\n"
     ]
    }
   ],
   "source": [
    "#Kodesnutt 1\n",
    "streng = \"I Want Cake\"\n",
    "streng[7:] = \"Cupcake\"\n",
    "print(streng)\n",
    "\n",
    " \n",
    "#Kodesnutt 2\n",
    "streng = \"I Want Cake\"\n",
    "streng = streng[-4:100:]\n",
    "print(streng)\n",
    " \n",
    "#Kodesnutt 3\n",
    "streng = \"I Want Cake\"\n",
    "streng = streng[]\n",
    "print(streng)"
   ]
  },
  {
   "cell_type": "markdown",
   "metadata": {},
   "source": [
    "Dobbeltklikk på teksten under og skriv svaret ditt i boksen."
   ]
  },
  {
   "cell_type": "markdown",
   "metadata": {},
   "source": [
    "**Ditt svar:** #1 er feil siden man kan ikke definere det slikt. Det man kan gjøre i stedetfor er å skrivve streng=streng[7:]+ \"cupcake\"  #2 er riktig siden vi starter på -4 og fortsetter helt til 100 selv om vi ikke har så mange elementer i listen.  #3 er feil siden man kan ikke skrive det å lage en liste på den måten. Man kan skrive listen=[]\n",
    "listen.append(streng)\n",
    "print (listen)"
   ]
  }
 ],
 "metadata": {
  "kernelspec": {
   "display_name": "Python 3 (ipykernel)",
   "language": "python",
   "name": "python3"
  },
  "language_info": {
   "codemirror_mode": {
    "name": "ipython",
    "version": 3
   },
   "file_extension": ".py",
   "mimetype": "text/x-python",
   "name": "python",
   "nbconvert_exporter": "python",
   "pygments_lexer": "ipython3",
   "version": "3.10.8"
  },
  "toc": {
   "base_numbering": 1,
   "nav_menu": {},
   "number_sections": false,
   "sideBar": true,
   "skip_h1_title": false,
   "title_cell": "Table of Contents",
   "title_sidebar": "Contents",
   "toc_cell": false,
   "toc_position": {},
   "toc_section_display": true,
   "toc_window_display": false
  }
 },
 "nbformat": 4,
 "nbformat_minor": 4
}
